{
 "cells": [
  {
   "cell_type": "code",
   "execution_count": 1,
   "id": "e3410733",
   "metadata": {},
   "outputs": [],
   "source": [
    "import numpy as np\n",
    "from PIL import Image\n",
    "import pycuda.autoinit\n",
    "import pycuda.driver as cuda\n",
    "from pycuda.compiler import SourceModule\n",
    "import matplotlib.pyplot as plt\n",
    "import cv2\n",
    "import time"
   ]
  },
  {
   "cell_type": "code",
   "execution_count": 2,
   "id": "8fd270d8",
   "metadata": {},
   "outputs": [],
   "source": [
    "kernel_code = \"\"\"\n",
    "\n",
    "#define TILE_WIDTH 16\n",
    "\n",
    "__global__ void MatrixMulKernel(float* d_M, float* d_N, float* d_P, int Width)\n",
    "{\n",
    "    __shared__ float Mds[TILE_WIDTH][TILE_WIDTH];\n",
    "    __shared__ float Nds[TILE_WIDTH][TILE_WIDTH];\n",
    "    \n",
    "    int Row = blockIdx.y * TILE_WIDTH + threadIdx.y;\n",
    "    int Col = blockIdx.x * TILE_WIDTH + threadIdx.x;\n",
    "    \n",
    "    int tx = threadIdx.x; int ty = threadIdx.y;\n",
    "\n",
    "    float Pvalue = 0;\n",
    "\n",
    "    for (int ph = 0; ph < Width/TILE_WIDTH; ++ph)\n",
    "    {\n",
    "        Mds[ty][tx] = d_M[Row*Width + ph*TILE_WIDTH + tx];\n",
    "        Nds[ty][tx] = d_N[(ph*TILE_WIDTH + ty)*Width + Col];\n",
    "        __syncthreads();\n",
    "        for (int k = 0; k < TILE_WIDTH; ++k)\n",
    "        {\n",
    "            Pvalue += Mds[ty][k] * Nds[k][tx];\n",
    "        }\n",
    "        __syncthreads();\n",
    "    }\n",
    "    d_P[Row*Width + Col] = Pvalue; \n",
    "}\n",
    "\"\"\""
   ]
  },
  {
   "cell_type": "code",
   "execution_count": 3,
   "id": "d3dfbc3f",
   "metadata": {},
   "outputs": [],
   "source": [
    "Cols_Dim = 1024\n",
    "Rows_Dim = 1024"
   ]
  },
  {
   "cell_type": "code",
   "execution_count": 4,
   "id": "cdd4b001",
   "metadata": {},
   "outputs": [],
   "source": [
    "M = np.random.rand(Rows_Dim, Cols_Dim).astype(np.float32)\n",
    "N = np.random.rand(Rows_Dim, Cols_Dim).astype(np.float32)"
   ]
  },
  {
   "cell_type": "code",
   "execution_count": 5,
   "id": "4c1469e4",
   "metadata": {},
   "outputs": [],
   "source": [
    "d_M = cuda.mem_alloc(M.nbytes)\n",
    "d_N = cuda.mem_alloc(N.nbytes)\n",
    "d_P = cuda.mem_alloc(M.nbytes) # As they are square matrix, output bytes are the same"
   ]
  },
  {
   "cell_type": "code",
   "execution_count": 6,
   "id": "7f19453c",
   "metadata": {},
   "outputs": [],
   "source": [
    "cuda.memcpy_htod(d_M, M)\n",
    "cuda.memcpy_htod(d_N, N)"
   ]
  },
  {
   "cell_type": "code",
   "execution_count": null,
   "id": "1341d2e6",
   "metadata": {},
   "outputs": [],
   "source": []
  },
  {
   "cell_type": "code",
   "execution_count": 7,
   "id": "4e071e6a",
   "metadata": {},
   "outputs": [],
   "source": [
    "mod = SourceModule(kernel_code)\n",
    "MatrixMulKernel = mod.get_function(\"MatrixMulKernel\")"
   ]
  },
  {
   "cell_type": "code",
   "execution_count": 8,
   "id": "9230fbbe",
   "metadata": {},
   "outputs": [],
   "source": [
    "block_dim = (16, 16, 1)\n",
    "grid_dim = ((Cols_Dim + block_dim[0] - 1) // block_dim[0], (Rows_Dim + block_dim[1] - 1) // block_dim[1])"
   ]
  },
  {
   "cell_type": "code",
   "execution_count": 9,
   "id": "a8ec3500",
   "metadata": {},
   "outputs": [
    {
     "data": {
      "text/plain": [
       "0.00099945068359375"
      ]
     },
     "execution_count": 9,
     "metadata": {},
     "output_type": "execute_result"
    }
   ],
   "source": [
    "start = time.time()\n",
    "MatrixMulKernel(\n",
    "    d_M,\n",
    "    d_N,\n",
    "    d_P,\n",
    "    np.int32(Cols_Dim),\n",
    "    block = block_dim,\n",
    "    grid = grid_dim\n",
    ")\n",
    "end = time.time()\n",
    "end - start"
   ]
  },
  {
   "cell_type": "code",
   "execution_count": 10,
   "id": "81df3813",
   "metadata": {},
   "outputs": [],
   "source": [
    "P = np.empty_like(M).astype(np.float32)"
   ]
  },
  {
   "cell_type": "code",
   "execution_count": 11,
   "id": "c294fdfe",
   "metadata": {},
   "outputs": [
    {
     "data": {
      "text/plain": [
       "(1024, 1024)"
      ]
     },
     "execution_count": 11,
     "metadata": {},
     "output_type": "execute_result"
    }
   ],
   "source": [
    "P.shape"
   ]
  },
  {
   "cell_type": "code",
   "execution_count": 12,
   "id": "991b4494",
   "metadata": {},
   "outputs": [],
   "source": [
    "cuda.memcpy_dtoh(P, d_P)"
   ]
  },
  {
   "cell_type": "code",
   "execution_count": 13,
   "id": "39ac318a",
   "metadata": {},
   "outputs": [
    {
     "data": {
      "text/plain": [
       "array([[0.6679152 , 0.10592703, 0.26474425, ..., 0.91977245, 0.2466563 ,\n",
       "        0.12611982],\n",
       "       [0.16977921, 0.5010432 , 0.353344  , ..., 0.80630505, 0.1913338 ,\n",
       "        0.85592157],\n",
       "       [0.10025446, 0.32971656, 0.29606226, ..., 0.8849273 , 0.22727858,\n",
       "        0.5969997 ],\n",
       "       ...,\n",
       "       [0.92950624, 0.2219363 , 0.35992387, ..., 0.74274004, 0.29845178,\n",
       "        0.42759418],\n",
       "       [0.12382659, 0.64563644, 0.3462829 , ..., 0.5991458 , 0.14450046,\n",
       "        0.02420733],\n",
       "       [0.55324244, 0.3630794 , 0.8544967 , ..., 0.6146821 , 0.72303474,\n",
       "        0.9594718 ]], dtype=float32)"
      ]
     },
     "execution_count": 13,
     "metadata": {},
     "output_type": "execute_result"
    }
   ],
   "source": [
    "M"
   ]
  },
  {
   "cell_type": "code",
   "execution_count": 14,
   "id": "729d7b0d",
   "metadata": {},
   "outputs": [
    {
     "data": {
      "text/plain": [
       "array([[6.3142437e-01, 5.3849536e-01, 5.7714766e-01, ..., 7.1352726e-01,\n",
       "        8.0221188e-01, 6.4098871e-01],\n",
       "       [7.9329228e-01, 5.9974033e-01, 6.7256141e-01, ..., 9.8937905e-01,\n",
       "        9.5460719e-01, 6.9591969e-01],\n",
       "       [9.0011084e-01, 4.6496746e-01, 3.2623118e-04, ..., 1.0017523e-01,\n",
       "        8.6417228e-02, 2.0480953e-01],\n",
       "       ...,\n",
       "       [6.7360866e-01, 8.9728045e-01, 7.2693247e-01, ..., 6.3324399e-02,\n",
       "        7.9348433e-01, 7.7504516e-02],\n",
       "       [2.3776276e-02, 6.8800968e-01, 6.1341190e-01, ..., 7.7494133e-01,\n",
       "        5.5559134e-01, 3.2210636e-01],\n",
       "       [7.2569287e-01, 5.2297133e-01, 8.4117752e-01, ..., 5.1486525e-03,\n",
       "        2.6054496e-01, 4.4995427e-01]], dtype=float32)"
      ]
     },
     "execution_count": 14,
     "metadata": {},
     "output_type": "execute_result"
    }
   ],
   "source": [
    "N"
   ]
  },
  {
   "cell_type": "code",
   "execution_count": 15,
   "id": "ab6f8903",
   "metadata": {},
   "outputs": [
    {
     "data": {
      "text/plain": [
       "array([[247.0025 , 259.35373, 254.09996, ..., 246.98961, 242.5142 ,\n",
       "        245.0079 ],\n",
       "       [257.16092, 254.98154, 254.11777, ..., 257.77832, 255.76958,\n",
       "        249.19687],\n",
       "       [261.12256, 257.04037, 257.99966, ..., 258.75635, 258.3597 ,\n",
       "        254.11215],\n",
       "       ...,\n",
       "       [259.92056, 263.1415 , 261.21057, ..., 261.35513, 259.83136,\n",
       "        253.91042],\n",
       "       [257.43008, 262.57135, 257.89297, ..., 257.28726, 261.25464,\n",
       "        256.83798],\n",
       "       [250.64386, 258.7627 , 251.05354, ..., 259.09766, 253.398  ,\n",
       "        254.7437 ]], dtype=float32)"
      ]
     },
     "execution_count": 15,
     "metadata": {},
     "output_type": "execute_result"
    }
   ],
   "source": [
    "P"
   ]
  },
  {
   "cell_type": "code",
   "execution_count": 16,
   "id": "1abd6fd9",
   "metadata": {},
   "outputs": [
    {
     "data": {
      "text/plain": [
       "0.027005672454833984"
      ]
     },
     "execution_count": 16,
     "metadata": {},
     "output_type": "execute_result"
    }
   ],
   "source": [
    "start = time.time()\n",
    "X = np.matmul(M,N).astype(np.float32)\n",
    "end = time.time()\n",
    "end - start"
   ]
  },
  {
   "cell_type": "code",
   "execution_count": 17,
   "id": "6632e42d",
   "metadata": {},
   "outputs": [
    {
     "data": {
      "text/plain": [
       "array([[247.00247, 259.35382, 254.10004, ..., 246.98965, 242.51418,\n",
       "        245.00812],\n",
       "       [257.1609 , 254.98163, 254.11774, ..., 257.77853, 255.76947,\n",
       "        249.19667],\n",
       "       [261.12244, 257.04037, 257.9996 , ..., 258.7563 , 258.35962,\n",
       "        254.11217],\n",
       "       ...,\n",
       "       [259.92056, 263.1414 , 261.21057, ..., 261.35516, 259.83133,\n",
       "        253.9104 ],\n",
       "       [257.43   , 262.5714 , 257.893  , ..., 257.28726, 261.25464,\n",
       "        256.8381 ],\n",
       "       [250.64384, 258.76263, 251.05354, ..., 259.09763, 253.39796,\n",
       "        254.74379]], dtype=float32)"
      ]
     },
     "execution_count": 17,
     "metadata": {},
     "output_type": "execute_result"
    }
   ],
   "source": [
    "X"
   ]
  },
  {
   "cell_type": "code",
   "execution_count": 18,
   "id": "65c54ac8",
   "metadata": {},
   "outputs": [],
   "source": [
    "Z = P - X"
   ]
  },
  {
   "cell_type": "code",
   "execution_count": 19,
   "id": "5ec42e41",
   "metadata": {},
   "outputs": [
    {
     "data": {
      "text/plain": [
       "array([ 0.0000305176, -0.0000915527, -0.0000762939, ..., -0.0000457764,\n",
       "        0.0000305176, -0.000213623 ], dtype=float32)"
      ]
     },
     "execution_count": 19,
     "metadata": {},
     "output_type": "execute_result"
    }
   ],
   "source": [
    "np.set_printoptions(precision=10)\n",
    "np.set_printoptions(suppress=True)\n",
    "Z[0,:Rows_Dim]"
   ]
  },
  {
   "cell_type": "code",
   "execution_count": 20,
   "id": "0fd4360f",
   "metadata": {},
   "outputs": [
    {
     "data": {
      "image/png": "[encoded data removed]",
      "text/plain": [
       "<Figure size 640x480 with 1 Axes>"
      ]
     },
     "metadata": {},
     "output_type": "display_data"
    }
   ],
   "source": [
    "n = Rows_Dim\n",
    "indices = np.arange(n)\n",
    "x = np.arange(n)\n",
    "y = Z[0,:n]\n",
    "plt.bar(x, y, label='Dispersion')\n",
    "plt.legend(loc='best')\n",
    "plt.title('Dispersion de números flotantes')\n",
    "plt.show()"
   ]
  }
 ],
 "metadata": {
  "kernelspec": {
   "display_name": "Python 3 (ipykernel)",
   "language": "python",
   "name": "python3"
  },
  "language_info": {
   "codemirror_mode": {
    "name": "ipython",
    "version": 3
   },
   "file_extension": ".py",
   "mimetype": "text/x-python",
   "name": "python",
   "nbconvert_exporter": "python",
   "pygments_lexer": "ipython3",
   "version": "3.9.16"
  }
 },
 "nbformat": 4,
 "nbformat_minor": 5
}
