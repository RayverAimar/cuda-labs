{
 "cells": [
  {
   "cell_type": "code",
   "execution_count": 1,
   "id": "43888348",
   "metadata": {},
   "outputs": [],
   "source": [
    "import numpy as np\n",
    "from PIL import Image\n",
    "import pycuda.autoinit\n",
    "import pycuda.driver as cuda\n",
    "from pycuda.compiler import SourceModule\n",
    "import matplotlib.pyplot as plt\n",
    "import cv2\n",
    "import time"
   ]
  },
  {
   "cell_type": "code",
   "execution_count": 2,
   "id": "8fd270d8",
   "metadata": {},
   "outputs": [],
   "source": [
    "kernel_code = \"\"\"\n",
    "__global__ void MatrixMulKernel(float* M, float* N, float* P, int Width)\n",
    "{\n",
    "    int Row = blockIdx.y * blockDim.y + threadIdx.y;\n",
    "    int Col = blockIdx.x * blockDim.x + threadIdx.x;\n",
    "    if ((Row < Width) && (Col < Width))\n",
    "    {\n",
    "        float Pvalue = 0;\n",
    "        for (int k = 0; k < Width; ++k)\n",
    "        {\n",
    "            Pvalue += M[Row*Width+k] * N[k*Width+Col];\n",
    "        }\n",
    "        P[Row*Width+Col] = Pvalue;\n",
    "    }\n",
    "}\n",
    "\"\"\""
   ]
  },
  {
   "cell_type": "code",
   "execution_count": 3,
   "id": "b60d4cd3",
   "metadata": {},
   "outputs": [],
   "source": [
    "Cols_Dim = 1024\n",
    "Rows_Dim = 1024"
   ]
  },
  {
   "cell_type": "code",
   "execution_count": 4,
   "id": "70a9deb4",
   "metadata": {},
   "outputs": [],
   "source": [
    "M = np.random.rand(Rows_Dim, Cols_Dim).astype(np.float32)\n",
    "N = np.random.rand(Rows_Dim, Cols_Dim).astype(np.float32)"
   ]
  },
  {
   "cell_type": "code",
   "execution_count": 5,
   "id": "e549c18b",
   "metadata": {},
   "outputs": [],
   "source": [
    "d_M = cuda.mem_alloc(M.nbytes)\n",
    "d_N = cuda.mem_alloc(N.nbytes)\n",
    "d_P = cuda.mem_alloc(M.nbytes) # As they are square matrix, output bytes are the same"
   ]
  },
  {
   "cell_type": "code",
   "execution_count": 6,
   "id": "14c0114e",
   "metadata": {},
   "outputs": [],
   "source": [
    "cuda.memcpy_htod(d_M, M)\n",
    "cuda.memcpy_htod(d_N, N)"
   ]
  },
  {
   "cell_type": "code",
   "execution_count": 7,
   "id": "4e071e6a",
   "metadata": {},
   "outputs": [],
   "source": [
    "mod = SourceModule(kernel_code)\n",
    "MatrixMulKernel = mod.get_function(\"MatrixMulKernel\")"
   ]
  },
  {
   "cell_type": "code",
   "execution_count": 8,
   "id": "9230fbbe",
   "metadata": {},
   "outputs": [],
   "source": [
    "block_dim = (16, 16, 1)\n",
    "grid_dim = ((Cols_Dim + block_dim[0] - 1) // block_dim[0], (Rows_Dim + block_dim[1] - 1) // block_dim[1])"
   ]
  },
  {
   "cell_type": "code",
   "execution_count": 9,
   "id": "a8ec3500",
   "metadata": {},
   "outputs": [
    {
     "data": {
      "text/plain": [
       "0.0010001659393310547"
      ]
     },
     "execution_count": 9,
     "metadata": {},
     "output_type": "execute_result"
    }
   ],
   "source": [
    "start = time.time()\n",
    "MatrixMulKernel(\n",
    "    d_M,\n",
    "    d_N,\n",
    "    d_P,\n",
    "    np.int32(Cols_Dim),\n",
    "    block = block_dim,\n",
    "    grid = grid_dim\n",
    ")\n",
    "end = time.time()\n",
    "end - start"
   ]
  },
  {
   "cell_type": "code",
   "execution_count": 10,
   "id": "81df3813",
   "metadata": {},
   "outputs": [],
   "source": [
    "P = np.empty_like(M).astype(np.float32)"
   ]
  },
  {
   "cell_type": "code",
   "execution_count": 11,
   "id": "c7456243",
   "metadata": {},
   "outputs": [
    {
     "data": {
      "text/plain": [
       "(1024, 1024)"
      ]
     },
     "execution_count": 11,
     "metadata": {},
     "output_type": "execute_result"
    }
   ],
   "source": [
    "P.shape"
   ]
  },
  {
   "cell_type": "code",
   "execution_count": 12,
   "id": "991b4494",
   "metadata": {},
   "outputs": [],
   "source": [
    "cuda.memcpy_dtoh(P, d_P)"
   ]
  },
  {
   "cell_type": "code",
   "execution_count": 13,
   "id": "39ac318a",
   "metadata": {},
   "outputs": [
    {
     "data": {
      "text/plain": [
       "array([[0.7523226 , 0.87685597, 0.26730734, ..., 0.35600927, 0.04345528,\n",
       "        0.97789884],\n",
       "       [0.06784651, 0.6633415 , 0.58676714, ..., 0.9282696 , 0.6970669 ,\n",
       "        0.58003443],\n",
       "       [0.59699094, 0.86833525, 0.56244254, ..., 0.23872581, 0.01751681,\n",
       "        0.3325001 ],\n",
       "       ...,\n",
       "       [0.28337482, 0.74107283, 0.6807198 , ..., 0.08452909, 0.6273345 ,\n",
       "        0.9198924 ],\n",
       "       [0.7632179 , 0.7184023 , 0.06129909, ..., 0.586647  , 0.44267297,\n",
       "        0.92062485],\n",
       "       [0.46790928, 0.6059879 , 0.8203019 , ..., 0.08655137, 0.24525216,\n",
       "        0.41440606]], dtype=float32)"
      ]
     },
     "execution_count": 13,
     "metadata": {},
     "output_type": "execute_result"
    }
   ],
   "source": [
    "M"
   ]
  },
  {
   "cell_type": "code",
   "execution_count": 14,
   "id": "729d7b0d",
   "metadata": {},
   "outputs": [
    {
     "data": {
      "text/plain": [
       "array([[0.69166595, 0.9373464 , 0.80832475, ..., 0.4732505 , 0.22178836,\n",
       "        0.70042086],\n",
       "       [0.82272977, 0.2573309 , 0.63038015, ..., 0.64574397, 0.56313044,\n",
       "        0.29750422],\n",
       "       [0.6901964 , 0.9389744 , 0.5193235 , ..., 0.37564325, 0.19881023,\n",
       "        0.9770811 ],\n",
       "       ...,\n",
       "       [0.37907422, 0.7030663 , 0.05601377, ..., 0.7080858 , 0.4405653 ,\n",
       "        0.9622752 ],\n",
       "       [0.93179715, 0.06601638, 0.9254286 , ..., 0.03345892, 0.83917624,\n",
       "        0.8788791 ],\n",
       "       [0.340655  , 0.8784838 , 0.82741445, ..., 0.5359862 , 0.81463706,\n",
       "        0.4986453 ]], dtype=float32)"
      ]
     },
     "execution_count": 14,
     "metadata": {},
     "output_type": "execute_result"
    }
   ],
   "source": [
    "N"
   ]
  },
  {
   "cell_type": "code",
   "execution_count": 15,
   "id": "ab6f8903",
   "metadata": {},
   "outputs": [
    {
     "data": {
      "text/plain": [
       "array([[259.5832 , 256.17377, 255.46577, ..., 261.4996 , 249.41052,\n",
       "        250.4448 ],\n",
       "       [260.29617, 252.896  , 254.83054, ..., 260.99158, 255.04163,\n",
       "        255.5616 ],\n",
       "       [249.12778, 247.04103, 241.67972, ..., 254.25883, 241.18613,\n",
       "        245.64659],\n",
       "       ...,\n",
       "       [259.11435, 259.78333, 257.31998, ..., 266.7442 , 254.92322,\n",
       "        260.52505],\n",
       "       [247.6758 , 245.5557 , 243.39954, ..., 252.8442 , 244.16756,\n",
       "        246.98042],\n",
       "       [259.68442, 254.776  , 263.66992, ..., 265.46362, 256.34207,\n",
       "        259.681  ]], dtype=float32)"
      ]
     },
     "execution_count": 15,
     "metadata": {},
     "output_type": "execute_result"
    }
   ],
   "source": [
    "P"
   ]
  },
  {
   "cell_type": "code",
   "execution_count": 16,
   "id": "1c834414",
   "metadata": {},
   "outputs": [
    {
     "data": {
      "text/plain": [
       "0.010000944137573242"
      ]
     },
     "execution_count": 16,
     "metadata": {},
     "output_type": "execute_result"
    }
   ],
   "source": [
    "start = time.time()\n",
    "X = np.matmul(M,N).astype(np.float32)\n",
    "end = time.time()\n",
    "end - start"
   ]
  },
  {
   "cell_type": "code",
   "execution_count": 17,
   "id": "d1b41c54",
   "metadata": {},
   "outputs": [
    {
     "data": {
      "text/plain": [
       "array([[259.5831 , 256.1736 , 255.46594, ..., 261.49948, 249.41045,\n",
       "        250.44481],\n",
       "       [260.29584, 252.89607, 254.83081, ..., 260.9915 , 255.04184,\n",
       "        255.56178],\n",
       "       [249.12784, 247.04121, 241.67976, ..., 254.25891, 241.18613,\n",
       "        245.64653],\n",
       "       ...,\n",
       "       [259.1142 , 259.78336, 257.3201 , ..., 266.74435, 254.92316,\n",
       "        260.5251 ],\n",
       "       [247.676  , 245.5556 , 243.39961, ..., 252.84422, 244.16734,\n",
       "        246.98035],\n",
       "       [259.68433, 254.77611, 263.66998, ..., 265.4637 , 256.34198,\n",
       "        259.68127]], dtype=float32)"
      ]
     },
     "execution_count": 17,
     "metadata": {},
     "output_type": "execute_result"
    }
   ],
   "source": [
    "X"
   ]
  },
  {
   "cell_type": "code",
   "execution_count": 18,
   "id": "7ffd2660",
   "metadata": {},
   "outputs": [],
   "source": [
    "Z = P - X"
   ]
  },
  {
   "cell_type": "code",
   "execution_count": 19,
   "id": "d3a9e17e",
   "metadata": {},
   "outputs": [
    {
     "data": {
      "text/plain": [
       "array([ 0.0000915527,  0.0001525879, -0.0001678467, ...,  0.0001220703,\n",
       "        0.0000762939, -0.0000152588], dtype=float32)"
      ]
     },
     "execution_count": 19,
     "metadata": {},
     "output_type": "execute_result"
    }
   ],
   "source": [
    "np.set_printoptions(precision=10)\n",
    "np.set_printoptions(suppress=True)\n",
    "Z[0,:Rows_Dim]"
   ]
  },
  {
   "cell_type": "code",
   "execution_count": 20,
   "id": "e5581a63",
   "metadata": {},
   "outputs": [
    {
     "data": {
      "image/png": "[encoded data removed]",
      "text/plain": [
       "<Figure size 640x480 with 1 Axes>"
      ]
     },
     "metadata": {},
     "output_type": "display_data"
    }
   ],
   "source": [
    "n = Rows_Dim\n",
    "indices = np.arange(n)\n",
    "x = np.arange(n)\n",
    "y = Z[0,:n]\n",
    "plt.bar(x, y, label='Dispersion')\n",
    "plt.legend(loc='best')\n",
    "plt.title('Dispersion de números flotantes')\n",
    "plt.show()"
   ]
  }
 ],
 "metadata": {
  "kernelspec": {
   "display_name": "Python 3 (ipykernel)",
   "language": "python",
   "name": "python3"
  },
  "language_info": {
   "codemirror_mode": {
    "name": "ipython",
    "version": 3
   },
   "file_extension": ".py",
   "mimetype": "text/x-python",
   "name": "python",
   "nbconvert_exporter": "python",
   "pygments_lexer": "ipython3",
   "version": "3.9.16"
  }
 },
 "nbformat": 4,
 "nbformat_minor": 5
}
